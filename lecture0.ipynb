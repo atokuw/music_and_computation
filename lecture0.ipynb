{
 "cells": [
  {
   "cell_type": "code",
   "execution_count": 1,
   "metadata": {},
   "outputs": [],
   "source": [
    "# There are many ways to use python.\n",
    "# This method (using Jupyter Notebooks)\n",
    "# runs small pieces of code inside of these rectangular cells. \n",
    "# Evaluate a cell by holding shift and pressing enter.\n",
    "\n",
    "# This line is a comment and not a piece of code,\n",
    "# indicated by the # sign."
   ]
  },
  {
   "cell_type": "code",
   "execution_count": 2,
   "metadata": {},
   "outputs": [],
   "source": [
    "# A fundamental concept in programming\n",
    "# is the variable. A variable has a name\n",
    "# and refers to some information, which can vary.\n",
    "\n",
    "# Here, we assign the variable called my_variable\n",
    "# a few values, first, the integer 10\n",
    "my_variable = 10\n",
    "\n",
    "# the single equals sign \"=\" does not check equality\n",
    "# like the \"=\" in math. Instead, it stores the value\n",
    "# on its right into the variable on its left"
   ]
  },
  {
   "cell_type": "code",
   "execution_count": 3,
   "metadata": {},
   "outputs": [
    {
     "name": "stdout",
     "output_type": "stream",
     "text": [
      "my_variable is: 10\n"
     ]
    }
   ],
   "source": [
    "print(\"my_variable is:\",my_variable)\n",
    "\n",
    "# we won't explain much about print(...)\n",
    "# now other than that doing print(...)\n",
    "# causes ... to be printed to the screen\n",
    "# print(a,b) prints both a and b.\n",
    "\n",
    "# quotes are used to distinguish text that should\n",
    "# be treated as information (to be stored or processed by code)\n",
    "# from the code itself."
   ]
  },
  {
   "cell_type": "code",
   "execution_count": 4,
   "metadata": {},
   "outputs": [
    {
     "name": "stdout",
     "output_type": "stream",
     "text": [
      "False\n",
      "True\n"
     ]
    }
   ],
   "source": [
    "# In python, we need to use two equals signs to get\n",
    "# the traditional mathematical equality\n",
    "print(3 == 4)\n",
    "print(3 == 3)"
   ]
  },
  {
   "cell_type": "code",
   "execution_count": 5,
   "metadata": {},
   "outputs": [
    {
     "name": "stdout",
     "output_type": "stream",
     "text": [
      "mark\n",
      "11\n"
     ]
    }
   ],
   "source": [
    "# As promised by their name, variables can vary their value.\n",
    "# over-write the value 10 with the value \"mark\"\n",
    "my_variable = \"mark\"\n",
    "print(my_variable)\n",
    "\n",
    "# variables in python can have any name that starts\n",
    "# with a letter and that contains letters, numbers, underscores\n",
    "x_is_a_variable_2 = 11\n",
    "print(x_is_a_variable_2)"
   ]
  },
  {
   "cell_type": "code",
   "execution_count": 6,
   "metadata": {},
   "outputs": [
    {
     "name": "stdout",
     "output_type": "stream",
     "text": [
      "7\n",
      "7\n"
     ]
    }
   ],
   "source": [
    "# Once a variable refers to a value,\n",
    "# you can treat it as the value itself.\n",
    "# There's nothing special about the number 10\n",
    "# being inside of a variable.\n",
    "x1 = 10\n",
    "x2 = 3\n",
    "print(10 - 3)\n",
    "print(x1 - x2)\n",
    "# notice also that python can handle basic math."
   ]
  },
  {
   "cell_type": "code",
   "execution_count": 7,
   "metadata": {},
   "outputs": [
    {
     "name": "stdout",
     "output_type": "stream",
     "text": [
      "[1, 2, 3, 4, 5]\n",
      "[10, 3, 'mark']\n"
     ]
    }
   ],
   "source": [
    "# store a sequence of numbers in a list\n",
    "my_list = [1,2,3,4,5]\n",
    "# or any sequence of values\n",
    "another_list = [x1,x2,\"mark\"]\n",
    "# lists are denoted by comma separated\n",
    "# entries between square brackets [...,...,...]\n",
    "print(my_list)\n",
    "print(another_list)"
   ]
  },
  {
   "cell_type": "code",
   "execution_count": 8,
   "metadata": {},
   "outputs": [
    {
     "name": "stdout",
     "output_type": "stream",
     "text": [
      "first entry of list is: a\n"
     ]
    }
   ],
   "source": [
    "# you can access an entry of a list\n",
    "# by \"indexing\" into it as follows\n",
    "my_list = [\"a\",\"b\",\"c\",\"d\",\"e\"]\n",
    "print(\"first entry of list is:\",my_list[0])\n",
    "\n",
    "# this prints the first thing in the list.\n",
    "# In many languages, counting starts at 0. \n",
    "# This means my_list[4] is the last element\n",
    "# of the list, and my_list[5] is \"out of bounds\".\n",
    "# We will get an error if we un-comment the next\n",
    "# line of code:\n",
    "# print(my_list[5])"
   ]
  },
  {
   "cell_type": "code",
   "execution_count": 9,
   "metadata": {},
   "outputs": [
    {
     "name": "stdout",
     "output_type": "stream",
     "text": [
      "a\n",
      "b\n",
      "c\n",
      "d\n",
      "e\n"
     ]
    }
   ],
   "source": [
    "# Suppose we want to sequentially print each\n",
    "# thing in a list. We could do \n",
    "print(my_list[0])\n",
    "print(my_list[1])\n",
    "print(my_list[2])\n",
    "print(my_list[3])\n",
    "print(my_list[4])\n",
    "# but it seems repetative and not CS-like to do.\n",
    "# We should learn how to describe to Python that\n",
    "# we want some sequential repetative behavior\n",
    "# without having to duplicate code ourselves."
   ]
  },
  {
   "cell_type": "code",
   "execution_count": 10,
   "metadata": {},
   "outputs": [
    {
     "name": "stdout",
     "output_type": "stream",
     "text": [
      "a\n",
      "b\n",
      "c\n",
      "d\n",
      "e\n"
     ]
    }
   ],
   "source": [
    "# introducing the \"for-loop\"\n",
    "for each_item in my_list:\n",
    "    print(each_item)\n",
    "    \n",
    "# note on syntax:\n",
    "# - \"for\" and \"in\" are special python keywords\n",
    "# - after \"for\", we pick a new variable name\n",
    "# - after \"in\" we name an existing list\n",
    "# notice the colon and the indentation of the next line\n",
    "# - for indentation, always use a single \"tab\" instead\n",
    "# of typing many spaces\n",
    "\n",
    "# how it works:\n",
    "# The code that's indented will happen several times\n",
    "# First, each_item is assigned the first item in the list,\n",
    "# my_list[0]. Next time, each_item will become my_list[1]\n",
    "# This keeps happening until each_item becomes the last\n",
    "# item of the list."
   ]
  },
  {
   "cell_type": "code",
   "execution_count": 11,
   "metadata": {},
   "outputs": [
    {
     "name": "stdout",
     "output_type": "stream",
     "text": [
      "a\n",
      "b\n"
     ]
    }
   ],
   "source": [
    "# That is, the above code is shorthand for:\n",
    "each_item = my_list[0]\n",
    "print(each_item)\n",
    "each_item = my_list[1]\n",
    "print(each_item)\n",
    "# and so on."
   ]
  },
  {
   "cell_type": "code",
   "execution_count": 12,
   "metadata": {},
   "outputs": [
    {
     "name": "stdout",
     "output_type": "stream",
     "text": [
      "a\n",
      "hello world\n",
      "b\n",
      "hello world\n",
      "c\n",
      "hello world\n",
      "d\n",
      "hello world\n",
      "e\n",
      "hello world\n",
      "end\n"
     ]
    }
   ],
   "source": [
    "# \"each_item\" is just a variable name we picked\n",
    "# we could pick any fresh variable name, like x.\n",
    "# we can also do more than one thing in the\n",
    "# body of the loop\n",
    "my_number_list = [0,1,2,3,4]\n",
    "for x in my_number_list:\n",
    "    print(my_list[x])\n",
    "    print(\"hello world\")\n",
    "print(\"end\")"
   ]
  },
  {
   "cell_type": "code",
   "execution_count": 13,
   "metadata": {},
   "outputs": [
    {
     "name": "stdout",
     "output_type": "stream",
     "text": [
      "a\n",
      "hello world\n",
      "end\n",
      "b\n",
      "hello world\n",
      "end\n",
      "c\n",
      "hello world\n",
      "end\n",
      "d\n",
      "hello world\n",
      "end\n",
      "e\n",
      "hello world\n",
      "end\n"
     ]
    }
   ],
   "source": [
    "# compare this behavior with\n",
    "my_number_list = [0,1,2,3,4]\n",
    "for x in my_number_list:\n",
    "    print(my_list[x])\n",
    "    print(\"hello world\")\n",
    "    print(\"end\")\n",
    "# So indentation is important."
   ]
  },
  {
   "cell_type": "code",
   "execution_count": 14,
   "metadata": {},
   "outputs": [
    {
     "name": "stdout",
     "output_type": "stream",
     "text": [
      "hello world\n",
      "hello world\n",
      "hello world\n",
      "hello world\n",
      "hello world\n",
      "hello world\n",
      "hello world\n",
      "hello world\n",
      "hello world\n",
      "hello world\n",
      "hello world\n",
      "hello world\n",
      "hello world\n",
      "hello world\n",
      "hello world\n",
      "hello world\n",
      "hello world\n",
      "hello world\n",
      "hello world\n",
      "hello world\n",
      "hello world\n",
      "hello world\n",
      "hello world\n",
      "hello world\n",
      "hello world\n"
     ]
    }
   ],
   "source": [
    "# Suppose we want to do the following loop\n",
    "for number in [0,1,2,3,4]:\n",
    "    print(\"hello world\")\n",
    "    print(\"hello world\")\n",
    "    print(\"hello world\")\n",
    "    print(\"hello world\")\n",
    "    print(\"hello world\")\n",
    "    \n",
    "# notice \"number\" doesn't have to be used, we just print\n",
    "# The list is just controling how many times we loop.\n",
    "    \n",
    "# but now we want to print \"hello\" 25 times. What can we do?\n",
    "\n",
    "# Attempt 1: copy/paste code that print\n",
    "# \"hello\". No thanks.\n",
    "\n",
    "# Attempt 2: for number in [0,1,2,3,4,5,6,7,8,9,10,etc...]\n",
    "# No thanks"
   ]
  },
  {
   "cell_type": "code",
   "execution_count": 15,
   "metadata": {},
   "outputs": [
    {
     "name": "stdout",
     "output_type": "stream",
     "text": [
      "hello world\n",
      "hello world\n",
      "hello world\n",
      "hello world\n",
      "hello world\n",
      "hello world\n",
      "hello world\n",
      "hello world\n",
      "hello world\n",
      "hello world\n",
      "hello world\n",
      "hello world\n",
      "hello world\n",
      "hello world\n",
      "hello world\n",
      "hello world\n",
      "hello world\n",
      "hello world\n",
      "hello world\n",
      "hello world\n",
      "hello world\n",
      "hello world\n",
      "hello world\n",
      "hello world\n",
      "hello world\n"
     ]
    }
   ],
   "source": [
    "# Attempt 3: nest two loops:\n",
    "for number_a in [0,1,2,3,4]:\n",
    "    for number_b in [0,1,2,3,4]:\n",
    "        print(\"hello world\")"
   ]
  },
  {
   "cell_type": "code",
   "execution_count": 16,
   "metadata": {},
   "outputs": [
    {
     "name": "stdout",
     "output_type": "stream",
     "text": [
      "step left\n",
      "say yeah!\n",
      "step left\n",
      "say no!\n",
      "step right\n",
      "say yeah!\n",
      "step right\n",
      "say no!\n",
      "step left\n",
      "say yeah!\n",
      "step left\n",
      "say no!\n"
     ]
    }
   ],
   "source": [
    "# another nested loop example to make a small dance\n",
    "for move_one in ['step left','step right','step left']:\n",
    "    for move_two in ['say yeah!', 'say no!']:\n",
    "        print(move_one)\n",
    "        print(move_two)\n",
    "# so move_two loops throug all of its values before\n",
    "# move_one changes to each next value."
   ]
  },
  {
   "cell_type": "code",
   "execution_count": 17,
   "metadata": {},
   "outputs": [
    {
     "name": "stdout",
     "output_type": "stream",
     "text": [
      "hello world\n",
      "hello world\n",
      "hello world\n",
      "hello world\n",
      "hello world\n",
      "hello world\n",
      "hello world\n",
      "hello world\n",
      "hello world\n",
      "hello world\n",
      "hello world\n",
      "hello world\n",
      "hello world\n",
      "hello world\n",
      "hello world\n",
      "hello world\n",
      "hello world\n",
      "hello world\n",
      "hello world\n",
      "hello world\n",
      "hello world\n",
      "hello world\n",
      "hello world\n",
      "hello world\n",
      "hello world\n"
     ]
    }
   ],
   "source": [
    "# Attempt 4: in python, range(5) is something similar\n",
    "# to the list [0,1,2,3,4]. \n",
    "\n",
    "# more generally, range(x) is something similar to the list\n",
    "# [0,1,2,3,4,...,x-1]\n",
    "\n",
    "# We can do this, which\n",
    "# accomplishes what Attempt 2 wanted to:\n",
    "for number in range(25):\n",
    "    print(\"hello world\")"
   ]
  },
  {
   "cell_type": "code",
   "execution_count": 18,
   "metadata": {},
   "outputs": [
    {
     "name": "stdout",
     "output_type": "stream",
     "text": [
      "hello world\n",
      "hello world\n",
      "hello world\n",
      "hello world\n",
      "hello world\n",
      "hello world\n",
      "hello world\n",
      "hello world\n",
      "hello world\n",
      "hello world\n",
      "hello world\n",
      "hello world\n",
      "hello world\n",
      "hello world\n",
      "hello world\n",
      "hello world\n",
      "hello world\n",
      "hello world\n",
      "hello world\n",
      "hello world\n",
      "hello world\n",
      "hello world\n",
      "hello world\n",
      "hello world\n",
      "hello world\n"
     ]
    }
   ],
   "source": [
    "# Remember, nothing special about \"number\",\n",
    "# it's just a variable name. We can do\n",
    "for x in range(25):\n",
    "    print(\"hello world\")"
   ]
  },
  {
   "cell_type": "code",
   "execution_count": 19,
   "metadata": {},
   "outputs": [],
   "source": [
    "# Great, we've learned variables, lists, and loops.\n",
    "# One more concept for today"
   ]
  },
  {
   "cell_type": "code",
   "execution_count": 20,
   "metadata": {},
   "outputs": [
    {
     "name": "stdout",
     "output_type": "stream",
     "text": [
      "False\n",
      "True\n"
     ]
    }
   ],
   "source": [
    "# variables can refer\n",
    "# to truth values instead of numbers or strings of characters\n",
    "# like \"mark\". Python has two truth values, True and False\n",
    "x = True\n",
    "x = False\n",
    "print(x)\n",
    "print(3==3)"
   ]
  },
  {
   "cell_type": "code",
   "execution_count": 21,
   "metadata": {},
   "outputs": [
    {
     "name": "stdout",
     "output_type": "stream",
     "text": [
      ": )\n"
     ]
    }
   ],
   "source": [
    "# Sometimes we want code to do one thing\n",
    "# or another depending on some condition.\n",
    "\n",
    "mark_excited = True\n",
    "\n",
    "if mark_excited == True:\n",
    "    print(\": )\")\n",
    "else:\n",
    "    print(\": (\")\n",
    "    \n",
    "# if the condition after \"if\" is True,\n",
    "# then then the first thing happens,\n",
    "# otherwise, the second thing happens.\n",
    "    \n",
    "# try changing mark_excited to False and\n",
    "# running this code cell again."
   ]
  },
  {
   "cell_type": "code",
   "execution_count": 22,
   "metadata": {},
   "outputs": [
    {
     "name": "stdout",
     "output_type": "stream",
     "text": [
      ": (\n",
      "no\n",
      ": (\n",
      "no\n",
      ": )\n",
      "yes\n"
     ]
    }
   ],
   "source": [
    "# we can place an if-else inside of a for-loop\n",
    "for some_truth_value in [False, False, True]:\n",
    "    if some_truth_value == True:\n",
    "        print(\": )\")\n",
    "        print(\"yes\")\n",
    "    else:\n",
    "        print(\": (\")\n",
    "        print(\"no\")"
   ]
  },
  {
   "cell_type": "code",
   "execution_count": 23,
   "metadata": {},
   "outputs": [],
   "source": [
    "# more generally, programming works by placing small\n",
    "# pieces of code inside of others.\n",
    "\n",
    "\n",
    "# Next time, we will learn about functions,\n",
    "# which assign several lines of code to a single variable,\n",
    "# allowing us to easily combine large amounts of code\n",
    "\n",
    "# Thanks!"
   ]
  },
  {
   "cell_type": "code",
   "execution_count": null,
   "metadata": {},
   "outputs": [],
   "source": []
  }
 ],
 "metadata": {
  "kernelspec": {
   "display_name": "Python 3",
   "language": "python",
   "name": "python3"
  },
  "language_info": {
   "codemirror_mode": {
    "name": "ipython",
    "version": 3
   },
   "file_extension": ".py",
   "mimetype": "text/x-python",
   "name": "python",
   "nbconvert_exporter": "python",
   "pygments_lexer": "ipython3",
   "version": "3.6.7"
  }
 },
 "nbformat": 4,
 "nbformat_minor": 2
}
